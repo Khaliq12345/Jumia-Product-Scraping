{
 "cells": [
  {
   "cell_type": "code",
   "execution_count": 1,
   "id": "892b607f",
   "metadata": {},
   "outputs": [],
   "source": [
    "from bs4 import BeautifulSoup\n",
    "import requests\n",
    "import pandas as pd\n",
    "import numpy as  np"
   ]
  },
  {
   "cell_type": "markdown",
   "id": "c9f4d799",
   "metadata": {},
   "source": [
    "Demnading requests and creating a BeautifulSoup object "
   ]
  },
  {
   "cell_type": "code",
   "execution_count": 2,
   "id": "b6c3a317",
   "metadata": {},
   "outputs": [
    {
     "data": {
      "text/plain": [
       "<Response [200]>"
      ]
     },
     "execution_count": 2,
     "metadata": {},
     "output_type": "execute_result"
    }
   ],
   "source": [
    "response = requests.get('https://www.jumia.co.ke/all-products/')\n",
    "response"
   ]
  },
  {
   "cell_type": "code",
   "execution_count": 3,
   "id": "937c2485",
   "metadata": {},
   "outputs": [],
   "source": [
    "soup = BeautifulSoup(response.text,'lxml')"
   ]
  },
  {
   "cell_type": "markdown",
   "id": "268c2a64",
   "metadata": {},
   "source": [
    "Getting the data"
   ]
  },
  {
   "cell_type": "code",
   "execution_count": 4,
   "id": "e1b9d396",
   "metadata": {},
   "outputs": [
    {
     "data": {
      "text/plain": [
       "40"
      ]
     },
     "execution_count": 4,
     "metadata": {},
     "output_type": "execute_result"
    }
   ],
   "source": [
    "card = soup.find_all('article',attrs = {'class':'prd _fb col c-prd'})\n",
    "len(card)"
   ]
  },
  {
   "cell_type": "code",
   "execution_count": 5,
   "id": "49e3cfec",
   "metadata": {},
   "outputs": [
    {
     "data": {
      "text/plain": [
       "'282'"
      ]
     },
     "execution_count": 5,
     "metadata": {},
     "output_type": "execute_result"
    }
   ],
   "source": [
    "name = card[0].find('h3').text\n",
    "price = card[0].find('div',attrs={'class':'prc'}).text.replace('KSH','')\n",
    "rating = card[1].find('div',attrs={'class':'rev'}).text\n",
    "rating = rating[0:3]\n",
    "rating\n",
    "review = card[1].find('div',attrs={'class':'rev'}).text\n",
    "review = review[12:17].replace('(','')\n",
    "review = review.replace(')','')\n",
    "review"
   ]
  },
  {
   "cell_type": "markdown",
   "id": "0b8fe7b8",
   "metadata": {},
   "source": [
    "Scraping the entire website."
   ]
  },
  {
   "cell_type": "code",
   "execution_count": 6,
   "id": "d778ca2a",
   "metadata": {},
   "outputs": [],
   "source": [
    "n = []\n",
    "pr = []\n",
    "ra = []\n",
    "re = []\n",
    "for p in range(1,51):\n",
    "    response = requests.get(f'https://www.jumia.co.ke/all-products/?page={p}#catalog-listing')\n",
    "    soup = BeautifulSoup(response.text,'lxml')\n",
    "    card = soup.find_all('article',attrs = {'class':'prd _fb col c-prd'})\n",
    "    for c in card:\n",
    "        #name\n",
    "        try:\n",
    "            name = c.find('h3').text\n",
    "            n.append(name)\n",
    "        except:\n",
    "            n.append(np.nan)\n",
    "        #price\n",
    "        try:\n",
    "            price = c.find('div',attrs={'class':'prc'}).text.replace('KSH','')\n",
    "            pr.append(price)\n",
    "        except:\n",
    "            pr.append(np.nan)\n",
    "        #rating\n",
    "        try:\n",
    "            rating = c.find('div',attrs={'class':'rev'}).text\n",
    "            rating = rating[0:3]\n",
    "            ra.append(rating)\n",
    "        except:\n",
    "            ra.append(np.nan)\n",
    "        #review\n",
    "        try:\n",
    "            review = c.find('div',attrs={'class':'rev'}).text\n",
    "            review = review[12:17].replace('(','')\n",
    "            review = review.replace(')','')\n",
    "            re.append(review)\n",
    "        except:\n",
    "            re.append(np.nan)  "
   ]
  },
  {
   "cell_type": "code",
   "execution_count": 7,
   "id": "dd5c72d4",
   "metadata": {},
   "outputs": [
    {
     "data": {
      "text/html": [
       "<div>\n",
       "<style scoped>\n",
       "    .dataframe tbody tr th:only-of-type {\n",
       "        vertical-align: middle;\n",
       "    }\n",
       "\n",
       "    .dataframe tbody tr th {\n",
       "        vertical-align: top;\n",
       "    }\n",
       "\n",
       "    .dataframe thead th {\n",
       "        text-align: right;\n",
       "    }\n",
       "</style>\n",
       "<table border=\"1\" class=\"dataframe\">\n",
       "  <thead>\n",
       "    <tr style=\"text-align: right;\">\n",
       "      <th></th>\n",
       "      <th>Name</th>\n",
       "      <th>Price/KSH</th>\n",
       "      <th>Rating</th>\n",
       "      <th>Review</th>\n",
       "    </tr>\n",
       "  </thead>\n",
       "  <tbody>\n",
       "    <tr>\n",
       "      <th>0</th>\n",
       "      <td>Midea Hot And Cold F/s Yl1932s</td>\n",
       "      <td>KSh 7,999</td>\n",
       "      <td>NaN</td>\n",
       "      <td>NaN</td>\n",
       "    </tr>\n",
       "    <tr>\n",
       "      <th>1</th>\n",
       "      <td>Pembe Maize Meal – 2Kg</td>\n",
       "      <td>KSh 144</td>\n",
       "      <td>4.5</td>\n",
       "      <td>282</td>\n",
       "    </tr>\n",
       "    <tr>\n",
       "      <th>2</th>\n",
       "      <td>Dr. Rashel Vitamin C Brightening &amp; Anti-Aging ...</td>\n",
       "      <td>KSh 325</td>\n",
       "      <td>4.1</td>\n",
       "      <td>3345</td>\n",
       "    </tr>\n",
       "    <tr>\n",
       "      <th>3</th>\n",
       "      <td>Fashion 6Pcs Pure Cotton Checked Men's Boxers ...</td>\n",
       "      <td>KSh 809</td>\n",
       "      <td>3.9</td>\n",
       "      <td>1216</td>\n",
       "    </tr>\n",
       "    <tr>\n",
       "      <th>4</th>\n",
       "      <td>Garnier Even And Matte - Vitamin C Booster Serum</td>\n",
       "      <td>KSh 1,050</td>\n",
       "      <td>4.5</td>\n",
       "      <td>1494</td>\n",
       "    </tr>\n",
       "    <tr>\n",
       "      <th>...</th>\n",
       "      <td>...</td>\n",
       "      <td>...</td>\n",
       "      <td>...</td>\n",
       "      <td>...</td>\n",
       "    </tr>\n",
       "    <tr>\n",
       "      <th>1995</th>\n",
       "      <td>Generic 10 Inch LED Ringlight For Tiktok And Y...</td>\n",
       "      <td>KSh 3,500</td>\n",
       "      <td>4.1</td>\n",
       "      <td>9</td>\n",
       "    </tr>\n",
       "    <tr>\n",
       "      <th>1996</th>\n",
       "      <td>Mi True Wireless Basic  Airdot's Bluetooth V5....</td>\n",
       "      <td>KSh 1,800</td>\n",
       "      <td>2 o</td>\n",
       "      <td></td>\n",
       "    </tr>\n",
       "    <tr>\n",
       "      <th>1997</th>\n",
       "      <td>Generic Bed,Car Stand Mount Long Arm Holder Fo...</td>\n",
       "      <td>KSh 780</td>\n",
       "      <td>NaN</td>\n",
       "      <td>NaN</td>\n",
       "    </tr>\n",
       "    <tr>\n",
       "      <th>1998</th>\n",
       "      <td>Memory Card- Boost Micro Sd</td>\n",
       "      <td>KSh 549 - KSh 1,199</td>\n",
       "      <td>5 o</td>\n",
       "      <td></td>\n",
       "    </tr>\n",
       "    <tr>\n",
       "      <th>1999</th>\n",
       "      <td>Harman Kardon Onyx STUDIO 6 Wireless BLUETOOTH...</td>\n",
       "      <td>KSh 33,000</td>\n",
       "      <td>NaN</td>\n",
       "      <td>NaN</td>\n",
       "    </tr>\n",
       "  </tbody>\n",
       "</table>\n",
       "<p>2000 rows × 4 columns</p>\n",
       "</div>"
      ],
      "text/plain": [
       "                                                   Name            Price/KSH  \\\n",
       "0                        Midea Hot And Cold F/s Yl1932s            KSh 7,999   \n",
       "1                                Pembe Maize Meal – 2Kg              KSh 144   \n",
       "2     Dr. Rashel Vitamin C Brightening & Anti-Aging ...              KSh 325   \n",
       "3     Fashion 6Pcs Pure Cotton Checked Men's Boxers ...              KSh 809   \n",
       "4      Garnier Even And Matte - Vitamin C Booster Serum            KSh 1,050   \n",
       "...                                                 ...                  ...   \n",
       "1995  Generic 10 Inch LED Ringlight For Tiktok And Y...            KSh 3,500   \n",
       "1996  Mi True Wireless Basic  Airdot's Bluetooth V5....            KSh 1,800   \n",
       "1997  Generic Bed,Car Stand Mount Long Arm Holder Fo...              KSh 780   \n",
       "1998                        Memory Card- Boost Micro Sd  KSh 549 - KSh 1,199   \n",
       "1999  Harman Kardon Onyx STUDIO 6 Wireless BLUETOOTH...           KSh 33,000   \n",
       "\n",
       "     Rating Review  \n",
       "0       NaN    NaN  \n",
       "1       4.5    282  \n",
       "2       4.1   3345  \n",
       "3       3.9   1216  \n",
       "4       4.5   1494  \n",
       "...     ...    ...  \n",
       "1995    4.1      9  \n",
       "1996    2 o         \n",
       "1997    NaN    NaN  \n",
       "1998    5 o         \n",
       "1999    NaN    NaN  \n",
       "\n",
       "[2000 rows x 4 columns]"
      ]
     },
     "execution_count": 7,
     "metadata": {},
     "output_type": "execute_result"
    }
   ],
   "source": [
    "df = pd.DataFrame({'Name':n,'Price/KSH':pr,'Rating':ra,'Review':re})\n",
    "df"
   ]
  },
  {
   "cell_type": "code",
   "execution_count": 8,
   "id": "d0d41579",
   "metadata": {},
   "outputs": [
    {
     "data": {
      "text/html": [
       "<div>\n",
       "<style scoped>\n",
       "    .dataframe tbody tr th:only-of-type {\n",
       "        vertical-align: middle;\n",
       "    }\n",
       "\n",
       "    .dataframe tbody tr th {\n",
       "        vertical-align: top;\n",
       "    }\n",
       "\n",
       "    .dataframe thead th {\n",
       "        text-align: right;\n",
       "    }\n",
       "</style>\n",
       "<table border=\"1\" class=\"dataframe\">\n",
       "  <thead>\n",
       "    <tr style=\"text-align: right;\">\n",
       "      <th></th>\n",
       "      <th>Name</th>\n",
       "      <th>Price/KSH</th>\n",
       "      <th>Rating</th>\n",
       "      <th>Review</th>\n",
       "    </tr>\n",
       "  </thead>\n",
       "  <tbody>\n",
       "    <tr>\n",
       "      <th>0</th>\n",
       "      <td>Midea Hot And Cold F/s Yl1932s</td>\n",
       "      <td>KSh 7,999</td>\n",
       "      <td>0</td>\n",
       "      <td>0</td>\n",
       "    </tr>\n",
       "    <tr>\n",
       "      <th>1</th>\n",
       "      <td>Pembe Maize Meal – 2Kg</td>\n",
       "      <td>KSh 144</td>\n",
       "      <td>4.5</td>\n",
       "      <td>282</td>\n",
       "    </tr>\n",
       "    <tr>\n",
       "      <th>2</th>\n",
       "      <td>Dr. Rashel Vitamin C Brightening &amp; Anti-Aging ...</td>\n",
       "      <td>KSh 325</td>\n",
       "      <td>4.1</td>\n",
       "      <td>3345</td>\n",
       "    </tr>\n",
       "    <tr>\n",
       "      <th>3</th>\n",
       "      <td>Fashion 6Pcs Pure Cotton Checked Men's Boxers ...</td>\n",
       "      <td>KSh 809</td>\n",
       "      <td>3.9</td>\n",
       "      <td>1216</td>\n",
       "    </tr>\n",
       "    <tr>\n",
       "      <th>4</th>\n",
       "      <td>Garnier Even And Matte - Vitamin C Booster Serum</td>\n",
       "      <td>KSh 1,050</td>\n",
       "      <td>4.5</td>\n",
       "      <td>1494</td>\n",
       "    </tr>\n",
       "    <tr>\n",
       "      <th>...</th>\n",
       "      <td>...</td>\n",
       "      <td>...</td>\n",
       "      <td>...</td>\n",
       "      <td>...</td>\n",
       "    </tr>\n",
       "    <tr>\n",
       "      <th>1995</th>\n",
       "      <td>Generic 10 Inch LED Ringlight For Tiktok And Y...</td>\n",
       "      <td>KSh 3,500</td>\n",
       "      <td>4.1</td>\n",
       "      <td>9</td>\n",
       "    </tr>\n",
       "    <tr>\n",
       "      <th>1996</th>\n",
       "      <td>Mi True Wireless Basic  Airdot's Bluetooth V5....</td>\n",
       "      <td>KSh 1,800</td>\n",
       "      <td>2 o</td>\n",
       "      <td></td>\n",
       "    </tr>\n",
       "    <tr>\n",
       "      <th>1997</th>\n",
       "      <td>Generic Bed,Car Stand Mount Long Arm Holder Fo...</td>\n",
       "      <td>KSh 780</td>\n",
       "      <td>0</td>\n",
       "      <td>0</td>\n",
       "    </tr>\n",
       "    <tr>\n",
       "      <th>1998</th>\n",
       "      <td>Memory Card- Boost Micro Sd</td>\n",
       "      <td>KSh 549 - KSh 1,199</td>\n",
       "      <td>5 o</td>\n",
       "      <td></td>\n",
       "    </tr>\n",
       "    <tr>\n",
       "      <th>1999</th>\n",
       "      <td>Harman Kardon Onyx STUDIO 6 Wireless BLUETOOTH...</td>\n",
       "      <td>KSh 33,000</td>\n",
       "      <td>0</td>\n",
       "      <td>0</td>\n",
       "    </tr>\n",
       "  </tbody>\n",
       "</table>\n",
       "<p>2000 rows × 4 columns</p>\n",
       "</div>"
      ],
      "text/plain": [
       "                                                   Name            Price/KSH  \\\n",
       "0                        Midea Hot And Cold F/s Yl1932s            KSh 7,999   \n",
       "1                                Pembe Maize Meal – 2Kg              KSh 144   \n",
       "2     Dr. Rashel Vitamin C Brightening & Anti-Aging ...              KSh 325   \n",
       "3     Fashion 6Pcs Pure Cotton Checked Men's Boxers ...              KSh 809   \n",
       "4      Garnier Even And Matte - Vitamin C Booster Serum            KSh 1,050   \n",
       "...                                                 ...                  ...   \n",
       "1995  Generic 10 Inch LED Ringlight For Tiktok And Y...            KSh 3,500   \n",
       "1996  Mi True Wireless Basic  Airdot's Bluetooth V5....            KSh 1,800   \n",
       "1997  Generic Bed,Car Stand Mount Long Arm Holder Fo...              KSh 780   \n",
       "1998                        Memory Card- Boost Micro Sd  KSh 549 - KSh 1,199   \n",
       "1999  Harman Kardon Onyx STUDIO 6 Wireless BLUETOOTH...           KSh 33,000   \n",
       "\n",
       "     Rating Review  \n",
       "0         0      0  \n",
       "1       4.5    282  \n",
       "2       4.1   3345  \n",
       "3       3.9   1216  \n",
       "4       4.5   1494  \n",
       "...     ...    ...  \n",
       "1995    4.1      9  \n",
       "1996    2 o         \n",
       "1997      0      0  \n",
       "1998    5 o         \n",
       "1999      0      0  \n",
       "\n",
       "[2000 rows x 4 columns]"
      ]
     },
     "execution_count": 8,
     "metadata": {},
     "output_type": "execute_result"
    }
   ],
   "source": [
    "df.fillna(0)"
   ]
  },
  {
   "cell_type": "code",
   "execution_count": 9,
   "id": "2cfa4771",
   "metadata": {},
   "outputs": [],
   "source": [
    "df.to_csv(\"Jumia.cvs\")\n",
    "df.to_excel('Jumia.xlsx')"
   ]
  },
  {
   "cell_type": "markdown",
   "id": "53c09429",
   "metadata": {},
   "source": [
    "# THANK YOU"
   ]
  },
  {
   "cell_type": "code",
   "execution_count": null,
   "id": "41510591",
   "metadata": {},
   "outputs": [],
   "source": []
  },
  {
   "cell_type": "code",
   "execution_count": null,
   "id": "353a9fa5",
   "metadata": {},
   "outputs": [],
   "source": []
  },
  {
   "cell_type": "code",
   "execution_count": null,
   "id": "2124f1e0",
   "metadata": {},
   "outputs": [],
   "source": []
  }
 ],
 "metadata": {
  "kernelspec": {
   "display_name": "Python 3 (ipykernel)",
   "language": "python",
   "name": "python3"
  },
  "language_info": {
   "codemirror_mode": {
    "name": "ipython",
    "version": 3
   },
   "file_extension": ".py",
   "mimetype": "text/x-python",
   "name": "python",
   "nbconvert_exporter": "python",
   "pygments_lexer": "ipython3",
   "version": "3.9.7"
  }
 },
 "nbformat": 4,
 "nbformat_minor": 5
}
