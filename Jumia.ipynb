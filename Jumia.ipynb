{
 "cells": [
  {
   "cell_type": "code",
   "execution_count": 1,
   "id": "892b607f",
   "metadata": {},
   "outputs": [],
   "source": [
    "from bs4 import BeautifulSoup\n",
    "import requests\n",
    "import pandas as pd\n",
    "import numpy as  np"
   ]
  },
  {
   "cell_type": "markdown",
   "id": "c9f4d799",
   "metadata": {},
   "source": [
    "Demnading requests and creating a BeautifulSoup object "
   ]
  },
  {
   "cell_type": "code",
   "execution_count": null,
   "id": "b6c3a317",
   "metadata": {},
   "outputs": [],
   "source": [
    "response = requests.get('https://www.jumia.co.ke/all-products/')\n",
    "response"
   ]
  },
  {
   "cell_type": "code",
   "execution_count": 3,
   "id": "937c2485",
   "metadata": {},
   "outputs": [],
   "source": [
    "soup = BeautifulSoup(response.text,'lxml')"
   ]
  },
  {
   "cell_type": "markdown",
   "id": "268c2a64",
   "metadata": {},
   "source": [
    "Getting the data"
   ]
  },
  {
   "cell_type": "code",
   "execution_count": 4,
   "id": "e1b9d396",
   "metadata": {},
   "outputs": [
    {
     "data": {
      "text/plain": [
       "40"
      ]
     },
     "execution_count": 4,
     "metadata": {},
     "output_type": "execute_result"
    }
   ],
   "source": [
    "card = soup.find_all('article',attrs = {'class':'prd _fb col c-prd'})\n",
    "len(card)"
   ]
  },
  {
   "cell_type": "code",
   "execution_count": null,
   "id": "49e3cfec",
   "metadata": {},
   "outputs": [],
   "source": [
    "name = card[0].find('h3').text\n",
    "price = card[0].find('div',attrs={'class':'prc'}).text.replace('KSH','')\n",
    "rating = card[1].find('div',attrs={'class':'rev'}).text\n",
    "rating = rating[0:3]\n",
    "rating\n",
    "review = card[1].find('div',attrs={'class':'rev'}).text\n",
    "review = review[12:17].replace('(','')\n",
    "review = review.replace(')','')\n",
    "review"
   ]
  },
  {
   "cell_type": "markdown",
   "id": "0b8fe7b8",
   "metadata": {},
   "source": [
    "Scraping the entire website."
   ]
  },
  {
   "cell_type": "code",
   "execution_count": null,
   "id": "d778ca2a",
   "metadata": {},
   "outputs": [],
   "source": [
    "n = []\n",
    "pr = []\n",
    "ra = []\n",
    "re = []\n",
    "for p in range(1,11):\n",
    "    print(f'Page {p}')\n",
    "    response = requests.get(f'https://www.jumia.co.ke/all-products/?page={p}#catalog-listing')\n",
    "    soup = BeautifulSoup(response.text,'lxml')\n",
    "    card = soup.find_all('article',attrs = {'class':'prd _fb col c-prd'})\n",
    "    for c in card:\n",
    "        #name\n",
    "        try:\n",
    "            name = c.find('h3').text\n",
    "            n.append(name)\n",
    "        except:\n",
    "            n.append(np.nan)\n",
    "        #price\n",
    "        try:\n",
    "            price = c.find('div',attrs={'class':'prc'}).text.replace('KSH','')\n",
    "            pr.append(price)\n",
    "        except:\n",
    "            pr.append(np.nan)\n",
    "        #rating\n",
    "        try:\n",
    "            rating = c.find('div',attrs={'class':'rev'}).text\n",
    "            rating = rating[0:3]\n",
    "            ra.append(rating)\n",
    "        except:\n",
    "            ra.append(np.nan)\n",
    "        #review\n",
    "        try:\n",
    "            review = c.find('div',attrs={'class':'rev'}).text\n",
    "            review = review[12:17].replace('(','')\n",
    "            review = review.replace(')','')\n",
    "            re.append(review)\n",
    "        except:\n",
    "            re.append(np.nan)  "
   ]
  },
  {
   "cell_type": "code",
   "execution_count": null,
   "id": "dd5c72d4",
   "metadata": {},
   "outputs": [],
   "source": [
    "df = pd.DataFrame({'Name':n,'Price/KSH':pr,'Rating':ra,'Review':re})\n",
    "df"
   ]
  },
  {
   "cell_type": "code",
   "execution_count": null,
   "id": "d0d41579",
   "metadata": {},
   "outputs": [],
   "source": [
    "df.fillna(0)"
   ]
  },
  {
   "cell_type": "code",
   "execution_count": 9,
   "id": "2cfa4771",
   "metadata": {},
   "outputs": [],
   "source": [
    "df.to_csv(\"Jumia.cvs\")\n",
    "df.to_excel('Jumia.xlsx')"
   ]
  },
  {
   "cell_type": "markdown",
   "id": "53c09429",
   "metadata": {},
   "source": [
    "# THANK YOU"
   ]
  },
  {
   "cell_type": "code",
   "execution_count": null,
   "id": "41510591",
   "metadata": {},
   "outputs": [],
   "source": []
  },
  {
   "cell_type": "code",
   "execution_count": null,
   "id": "353a9fa5",
   "metadata": {},
   "outputs": [],
   "source": []
  },
  {
   "cell_type": "code",
   "execution_count": null,
   "id": "2124f1e0",
   "metadata": {},
   "outputs": [],
   "source": []
  }
 ],
 "metadata": {
  "kernelspec": {
   "display_name": "Python 3.10.0 ('kiber')",
   "language": "python",
   "name": "python3"
  },
  "language_info": {
   "codemirror_mode": {
    "name": "ipython",
    "version": 3
   },
   "file_extension": ".py",
   "mimetype": "text/x-python",
   "name": "python",
   "nbconvert_exporter": "python",
   "pygments_lexer": "ipython3",
   "version": "3.10.0"
  },
  "vscode": {
   "interpreter": {
    "hash": "fdb6fc7dd92a6cfcca3c68720bd737aecb050a4076f66a2a3431be09449648ae"
   }
  }
 },
 "nbformat": 4,
 "nbformat_minor": 5
}
